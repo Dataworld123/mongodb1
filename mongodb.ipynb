{
 "cells": [
  {
   "cell_type": "code",
   "execution_count": null,
   "id": "47e5bb8f-a9aa-4743-9c41-747f0f25e1e7",
   "metadata": {},
   "outputs": [],
   "source": [
    "Q1. What is MongoDB? Explain non-relational databases in short. In which scenarios it is preferred to use\n",
    "MongoDB over SQL databases?"
   ]
  },
  {
   "cell_type": "code",
   "execution_count": null,
   "id": "9bfd6d5f-9c8c-4a93-8496-98ce5390cf24",
   "metadata": {},
   "outputs": [],
   "source": [
    " MongoDB is a popular NoSQL document-oriented database that is designed to store and manage large amounts of unstructured data. Unlike traditional relational databases, MongoDB does not use tables to store data. Instead, it stores data in flexible, semi-structured documents that can have different fields and data types.\n",
    "\n",
    "Non-relational databases, also known as NoSQL databases, are databases that do not use the traditional relational data model based on tables with fixed schemas. Instead, NoSQL databases use a variety of data models, such as key-value stores, document stores, graph databases, and column-family stores, to store and manage data. NoSQL databases are generally designed to handle large amounts of unstructured or semi-structured data and to provide high scalability and performance.\n",
    "\n",
    "MongoDB is preferred over SQL databases in scenarios where:\n",
    "\n",
    "Flexible data structure: MongoDB is a good choice when you need to store data with a flexible schema, such as data from social media, mobile applications, and IoT devices. With MongoDB, you can easily store and query data that has varying fields and data types, without having to define a rigid schema upfront.\n",
    "\n",
    "Large-scale data: MongoDB is designed to handle large amounts of data and to scale horizontally across multiple servers or clusters. This makes it a good choice for applications that need to store and manage large volumes of data.\n",
    "\n",
    "High availability: MongoDB provides high availability and automatic failover, which means that if one server or node fails, the data and application can still be accessed from another server or node.\n",
    "\n",
    "Real-time analytics: MongoDB provides rich query functionality and aggregation capabilities that allow real-time analytics and reporting on large volumes of data.\n",
    "\n",
    "In summary, MongoDB is a popular NoSQL document-oriented database that is used in scenarios where there is a need for flexible data structures, high scalability, and real-time analytics. NoSQL databases, in general, are designed to handle unstructured data and provide high performance and scalability."
   ]
  },
  {
   "cell_type": "code",
   "execution_count": null,
   "id": "83795f5d-2e86-4eea-94c9-a220f75f6622",
   "metadata": {},
   "outputs": [],
   "source": [
    "Q2. State and Explain the features of MongoDB."
   ]
  },
  {
   "cell_type": "code",
   "execution_count": null,
   "id": "3b6a70a9-1201-469e-a89d-01902e8e88c5",
   "metadata": {},
   "outputs": [],
   "source": [
    "MongoDB is a popular NoSQL document-oriented database that is designed to store and manage large amounts of unstructured data. Here are some of the key features of MongoDB:\n",
    "\n",
    "Document-oriented: MongoDB is a document-oriented database, which means that it stores data in flexible, semi-structured documents that can have different fields and data types. This makes it easy to store and query data that has varying fields and structures.\n",
    "\n",
    "Dynamic schema: MongoDB has a dynamic schema, which means that you can add or remove fields from a document without having to modify the entire database schema. This makes it easy to handle evolving data structures and requirements.\n",
    "\n",
    "High availability: MongoDB provides high availability and automatic failover, which means that if one server or node fails, the data and application can still be accessed from another server or node.\n",
    "\n",
    "Horizontal scaling: MongoDB is designed to scale horizontally across multiple servers or clusters, which makes it easy to handle large amounts of data and high traffic loads.\n",
    "\n",
    "Rich query language: MongoDB provides a rich query language that allows for flexible and complex queries on large volumes of data.\n",
    "\n",
    "Aggregation framework: MongoDB provides a powerful aggregation framework that allows for real-time analytics and reporting on large volumes of data.\n",
    "\n",
    "Indexing: MongoDB supports various types of indexing, including single field, compound, geospatial, and text indexes, which helps to improve query performance.\n",
    "\n",
    "GridFS: MongoDB provides a file storage mechanism called GridFS that allows you to store and retrieve large files, such as images and videos, in a distributed environment.\n",
    "\n",
    "JSON format: MongoDB stores data in a flexible and widely adopted JSON-like format called BSON (Binary JSON), which makes it easy to work with data across different programming languages.\n",
    "\n"
   ]
  },
  {
   "cell_type": "code",
   "execution_count": null,
   "id": "798fa837-4b7b-4596-98f2-82036548b04f",
   "metadata": {},
   "outputs": [],
   "source": [
    "Q3. Write a code to connect MongoDB to Python. Also, create a database and a collection in MongoDB."
   ]
  },
  {
   "cell_type": "code",
   "execution_count": null,
   "id": "78208161-ea6f-4c33-9910-c34a91307688",
   "metadata": {},
   "outputs": [],
   "source": [
    "# import the necessary libraries\n",
    "import pymongo\n",
    "\n",
    "# establish a connection to MongoDB\n",
    "client = pymongo.MongoClient(\"mongodb://localhost:27017/\")\n",
    "\n",
    "# create a new database\n",
    "mydb = client[\"mydatabase\"]\n",
    "\n",
    "# create a new collection in the database\n",
    "mycol = mydb[\"customers\"]\n",
    "\n",
    "# insert a document into the collection\n",
    "mydict = { \"name\": \"John\", \"address\": \"Highway 37\" }\n",
    "x = mycol.insert_one(mydict)\n",
    "\n",
    "# print the id of the inserted document\n",
    "print(x.inserted_id)\n"
   ]
  },
  {
   "cell_type": "code",
   "execution_count": null,
   "id": "da455c12-a9d4-4f73-b509-2e9d33b91df4",
   "metadata": {},
   "outputs": [],
   "source": [
    "Q4. Using the database and the collection created in question number 3, write a code to insert one record,\n",
    "and insert many records. Use the find() and find_one() methods to print the inserted record."
   ]
  },
  {
   "cell_type": "code",
   "execution_count": null,
   "id": "dcec5f2a-21f2-4857-af01-daeb6984243b",
   "metadata": {},
   "outputs": [],
   "source": [
    "# import the necessary libraries\n",
    "import pymongo\n",
    "\n",
    "# establish a connection to MongoDB\n",
    "client = pymongo.MongoClient(\"mongodb://localhost:27017/\")\n",
    "\n",
    "# get the \"mydatabase\" database\n",
    "mydb = client[\"mydatabase\"]\n",
    "\n",
    "# get the \"customers\" collection\n",
    "mycol = mydb[\"customers\"]\n",
    "\n",
    "# insert one record into the collection\n",
    "mydict = { \"name\": \"Alice\", \"address\": \"Apple Street 11\" }\n",
    "x = mycol.insert_one(mydict)\n",
    "\n",
    "# insert many records into the collection\n",
    "mylist = [\n",
    "  { \"name\": \"Bob\", \"address\": \"Banana Street 12\" },\n",
    "  { \"name\": \"Charlie\", \"address\": \"Cherry Street 13\" },\n",
    "  { \"name\": \"Dave\", \"address\": \"Durian Street 14\" }\n",
    "]\n",
    "y = mycol.insert_many(mylist)\n",
    "\n",
    "# print the inserted records using find_one()\n",
    "print(mycol.find_one())\n",
    "\n",
    "# print all the inserted records using find()\n",
    "for x in mycol.find():\n",
    "  print(x)\n"
   ]
  },
  {
   "cell_type": "code",
   "execution_count": null,
   "id": "fccd1e2f-058c-46f6-9569-1f1c22292a8e",
   "metadata": {},
   "outputs": [],
   "source": [
    "Q5. Explain how you can use the find() method to query the MongoDB database. Write a simple code to\n",
    "demonstrate this."
   ]
  },
  {
   "cell_type": "code",
   "execution_count": null,
   "id": "a0279a6f-d9a5-428f-91c7-b111a541102a",
   "metadata": {},
   "outputs": [],
   "source": [
    "In MongoDB, the find() method is used to query a collection and retrieve documents that match a specific set of criteria. Here's how you can use the find() method to query a MongoDB database:\n",
    "\n",
    "Define a query by specifying a set of criteria that the documents must match. This is done using a dictionary of field-value pairs.\n",
    "\n",
    "Call the find() method on the collection you want to query, passing in the query dictionary as an argument.\n",
    "\n",
    "Iterate over the result set to access the matching documents.\n",
    "\n",
    "# import the necessary libraries\n",
    "import pymongo\n",
    "\n",
    "# establish a connection to MongoDB\n",
    "client = pymongo.MongoClient(\"mongodb://localhost:27017/\")\n",
    "\n",
    "# get the \"mydatabase\" database\n",
    "mydb = client[\"mydatabase\"]\n",
    "\n",
    "# get the \"customers\" collection\n",
    "mycol = mydb[\"customers\"]\n",
    "\n",
    "# define a query\n",
    "query = { \"address\": \"Apple Street 11\" }\n",
    "\n",
    "# find documents that match the query\n",
    "result_set = mycol.find(query)\n",
    "\n",
    "# print the matching documents\n",
    "for doc in result_set:\n",
    "  print(doc)\n"
   ]
  },
  {
   "cell_type": "code",
   "execution_count": null,
   "id": "c84ef63f-e5a3-4593-94ca-249bdb41d2d5",
   "metadata": {},
   "outputs": [],
   "source": [
    "Q6. Explain the sort() method. Give an example to demonstrate sorting in MongoDB."
   ]
  },
  {
   "cell_type": "code",
   "execution_count": null,
   "id": "0df29b33-6ce1-4267-b4f6-780149fc31b5",
   "metadata": {},
   "outputs": [],
   "source": [
    "In MongoDB, the sort() method is used to sort the documents in a collection based on a specified field. The sort() method takes a dictionary that specifies the field to sort on and the sort order (ascending or descending).\n",
    "\n",
    "# import the necessary libraries\n",
    "import pymongo\n",
    "\n",
    "# establish a connection to MongoDB\n",
    "client = pymongo.MongoClient(\"mongodb://localhost:27017/\")\n",
    "\n",
    "# get the \"mydatabase\" database\n",
    "mydb = client[\"mydatabase\"]\n",
    "\n",
    "# get the \"customers\" collection\n",
    "mycol = mydb[\"customers\"]\n",
    "\n",
    "# sort the documents in descending order by the \"name\" field\n",
    "myquery = { \"address\": { \"$regex\": \"^B\" } }\n",
    "mydoc = mycol.find(myquery).sort(\"name\", -1)\n",
    "\n",
    "# print the sorted documents\n",
    "for x in mydoc:\n",
    "  print(x)\n"
   ]
  }
 ],
 "metadata": {
  "kernelspec": {
   "display_name": "Python 3 (ipykernel)",
   "language": "python",
   "name": "python3"
  },
  "language_info": {
   "codemirror_mode": {
    "name": "ipython",
    "version": 3
   },
   "file_extension": ".py",
   "mimetype": "text/x-python",
   "name": "python",
   "nbconvert_exporter": "python",
   "pygments_lexer": "ipython3",
   "version": "3.10.8"
  }
 },
 "nbformat": 4,
 "nbformat_minor": 5
}
